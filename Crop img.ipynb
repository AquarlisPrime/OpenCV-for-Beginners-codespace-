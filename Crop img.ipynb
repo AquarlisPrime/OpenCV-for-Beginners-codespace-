import cv2

# Load an image
image = cv2.imread(r'C:\Users\Dell\Downloads\c675c20b9ba8eb49ef4145d5bdca2e88.jpg')

# Specify the coordinates of the top-left and bottom-right corners for cropping
start_x, start_y, end_x, end_y = 100, 100, 250, 250

# Crop the image
cropped_image = image[start_y:end_y, start_x:end_x]

# Display the cropped image
cv2.namedWindow('Cropped Image', cv2.WINDOW_NORMAL)
cv2.imshow('Cropped Image', cropped_image)
cv2.waitKey(0)
cv2.destroyAllWindows()
